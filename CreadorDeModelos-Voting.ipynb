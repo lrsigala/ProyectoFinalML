{
 "cells": [
  {
   "cell_type": "code",
   "execution_count": 1,
   "metadata": {},
   "outputs": [],
   "source": [
    "import numpy as np\n",
    "import matplotlib.pyplot as plt\n",
    "import pandas as pd\n",
    "from sklearn.compose import ColumnTransformer\n",
    "from sklearn.preprocessing import StandardScaler, OneHotEncoder\n",
    "from sklearn.pipeline import Pipeline\n",
    "from sklearn.linear_model import LogisticRegression\n",
    "from sklearn.metrics import accuracy_score, confusion_matrix, ConfusionMatrixDisplay, classification_report\n",
    "from imblearn.over_sampling import SMOTE\n",
    "from sklearn.model_selection import train_test_split, GridSearchCV\n",
    "from sklearn.svm import SVC\n",
    "from sklearn.ensemble import RandomForestClassifier, VotingClassifier, AdaBoostClassifier, BaggingClassifier, GradientBoostingClassifier\n",
    "import xgboost as xgb\n",
    "import seaborn as sns\n",
    "import joblib\n"
   ]
  },
  {
   "cell_type": "code",
   "execution_count": 2,
   "metadata": {},
   "outputs": [
    {
     "name": "stdout",
     "output_type": "stream",
     "text": [
      "         d8        d5        d7        d0        x8        x5        x7  \\\n",
      "0  0.002534  0.054895  0.041522  0.057841 -0.069561 -0.012329 -0.113641   \n",
      "1  0.002241  0.082535  0.035515  0.079078 -0.070179  0.005430 -0.088333   \n",
      "2  0.071195  0.300494  0.111925  0.136287 -0.005589  0.237707 -0.017873   \n",
      "3  0.151984  0.158136  0.166274  0.125265 -0.033199 -0.153598  0.018912   \n",
      "4  0.196612  0.089259  0.147832  0.119468 -0.029745  0.032694  0.093026   \n",
      "\n",
      "         x0        m8        m5  ...        d2        x9      x0.1      x8.1  \\\n",
      "0 -0.021926 -0.069225 -0.042910  ...  0.006265 -0.069161 -0.000391 -0.069902   \n",
      "1 -0.055264 -0.070389 -0.055693  ...  0.009458 -0.074414  0.006989 -0.087719   \n",
      "2  0.090340 -0.009867  0.238795  ...  0.210151 -0.002957  0.030859  0.001466   \n",
      "3 -0.136506 -0.030836 -0.063219  ...  0.078567 -0.054199 -0.039953 -0.008080   \n",
      "4 -0.027950 -0.083515  0.004362  ...  0.195842 -0.005517  0.007372 -0.048129   \n",
      "\n",
      "         x2        m9      m0.1      m8.1        m2  target  \n",
      "0 -0.073093 -0.069467 -0.034237 -0.069488 -0.072209     1.0  \n",
      "1 -0.067860 -0.073459 -0.012389 -0.086455 -0.069358     0.0  \n",
      "2 -0.140690 -0.017434 -0.005873  0.002852 -0.118342     1.0  \n",
      "3  0.006060 -0.044442 -0.012960 -0.007014 -0.022472     0.0  \n",
      "4  0.034964 -0.033710 -0.008029 -0.049652  0.050402     1.0  \n",
      "\n",
      "[5 rows x 25 columns]\n"
     ]
    }
   ],
   "source": [
    "df = pd.read_csv('segmentada.csv')\n",
    "\n",
    "# Mostrar las primeras filas del DataFrame para verificar que se cargó correctamente\n",
    "print(df.head())"
   ]
  },
  {
   "cell_type": "code",
   "execution_count": 3,
   "metadata": {},
   "outputs": [],
   "source": [
    "X_train,X_test,y_train ,y_test=train_test_split(df.drop(columns='target'), df['target'], test_size=0.2, random_state=42, stratify=df['target'])"
   ]
  },
  {
   "cell_type": "code",
   "execution_count": 4,
   "metadata": {},
   "outputs": [
    {
     "name": "stdout",
     "output_type": "stream",
     "text": [
      "{0.0: 42, 1.0: 36}\n",
      "{0.0: 11, 1.0: 9}\n"
     ]
    }
   ],
   "source": [
    "conteo_clases = y_train.value_counts().to_dict()\n",
    "print(conteo_clases)\n",
    "conteo_clases = y_test.value_counts().to_dict()\n",
    "print(conteo_clases)"
   ]
  },
  {
   "cell_type": "code",
   "execution_count": 5,
   "metadata": {},
   "outputs": [
    {
     "name": "stderr",
     "output_type": "stream",
     "text": [
      "c:\\Users\\sigal\\anaconda3\\envs\\EEG\\Lib\\site-packages\\sklearn\\linear_model\\_sag.py:349: ConvergenceWarning: The max_iter was reached which means the coef_ did not converge\n",
      "  warnings.warn(\n",
      "c:\\Users\\sigal\\anaconda3\\envs\\EEG\\Lib\\site-packages\\sklearn\\linear_model\\_sag.py:349: ConvergenceWarning: The max_iter was reached which means the coef_ did not converge\n",
      "  warnings.warn(\n",
      "c:\\Users\\sigal\\anaconda3\\envs\\EEG\\Lib\\site-packages\\sklearn\\linear_model\\_sag.py:349: ConvergenceWarning: The max_iter was reached which means the coef_ did not converge\n",
      "  warnings.warn(\n",
      "c:\\Users\\sigal\\anaconda3\\envs\\EEG\\Lib\\site-packages\\sklearn\\linear_model\\_sag.py:349: ConvergenceWarning: The max_iter was reached which means the coef_ did not converge\n",
      "  warnings.warn(\n",
      "c:\\Users\\sigal\\anaconda3\\envs\\EEG\\Lib\\site-packages\\sklearn\\linear_model\\_sag.py:349: ConvergenceWarning: The max_iter was reached which means the coef_ did not converge\n",
      "  warnings.warn(\n",
      "c:\\Users\\sigal\\anaconda3\\envs\\EEG\\Lib\\site-packages\\sklearn\\linear_model\\_sag.py:349: ConvergenceWarning: The max_iter was reached which means the coef_ did not converge\n",
      "  warnings.warn(\n",
      "c:\\Users\\sigal\\anaconda3\\envs\\EEG\\Lib\\site-packages\\sklearn\\linear_model\\_sag.py:349: ConvergenceWarning: The max_iter was reached which means the coef_ did not converge\n",
      "  warnings.warn(\n",
      "c:\\Users\\sigal\\anaconda3\\envs\\EEG\\Lib\\site-packages\\sklearn\\linear_model\\_sag.py:349: ConvergenceWarning: The max_iter was reached which means the coef_ did not converge\n",
      "  warnings.warn(\n",
      "c:\\Users\\sigal\\anaconda3\\envs\\EEG\\Lib\\site-packages\\sklearn\\linear_model\\_sag.py:349: ConvergenceWarning: The max_iter was reached which means the coef_ did not converge\n",
      "  warnings.warn(\n",
      "c:\\Users\\sigal\\anaconda3\\envs\\EEG\\Lib\\site-packages\\sklearn\\linear_model\\_sag.py:349: ConvergenceWarning: The max_iter was reached which means the coef_ did not converge\n",
      "  warnings.warn(\n",
      "c:\\Users\\sigal\\anaconda3\\envs\\EEG\\Lib\\site-packages\\sklearn\\linear_model\\_sag.py:349: ConvergenceWarning: The max_iter was reached which means the coef_ did not converge\n",
      "  warnings.warn(\n",
      "c:\\Users\\sigal\\anaconda3\\envs\\EEG\\Lib\\site-packages\\sklearn\\linear_model\\_sag.py:349: ConvergenceWarning: The max_iter was reached which means the coef_ did not converge\n",
      "  warnings.warn(\n",
      "c:\\Users\\sigal\\anaconda3\\envs\\EEG\\Lib\\site-packages\\sklearn\\linear_model\\_sag.py:349: ConvergenceWarning: The max_iter was reached which means the coef_ did not converge\n",
      "  warnings.warn(\n",
      "c:\\Users\\sigal\\anaconda3\\envs\\EEG\\Lib\\site-packages\\sklearn\\linear_model\\_sag.py:349: ConvergenceWarning: The max_iter was reached which means the coef_ did not converge\n",
      "  warnings.warn(\n",
      "c:\\Users\\sigal\\anaconda3\\envs\\EEG\\Lib\\site-packages\\sklearn\\linear_model\\_sag.py:349: ConvergenceWarning: The max_iter was reached which means the coef_ did not converge\n",
      "  warnings.warn(\n",
      "c:\\Users\\sigal\\anaconda3\\envs\\EEG\\Lib\\site-packages\\sklearn\\linear_model\\_sag.py:349: ConvergenceWarning: The max_iter was reached which means the coef_ did not converge\n",
      "  warnings.warn(\n",
      "c:\\Users\\sigal\\anaconda3\\envs\\EEG\\Lib\\site-packages\\sklearn\\linear_model\\_sag.py:349: ConvergenceWarning: The max_iter was reached which means the coef_ did not converge\n",
      "  warnings.warn(\n",
      "c:\\Users\\sigal\\anaconda3\\envs\\EEG\\Lib\\site-packages\\sklearn\\linear_model\\_sag.py:349: ConvergenceWarning: The max_iter was reached which means the coef_ did not converge\n",
      "  warnings.warn(\n",
      "c:\\Users\\sigal\\anaconda3\\envs\\EEG\\Lib\\site-packages\\sklearn\\linear_model\\_sag.py:349: ConvergenceWarning: The max_iter was reached which means the coef_ did not converge\n",
      "  warnings.warn(\n",
      "c:\\Users\\sigal\\anaconda3\\envs\\EEG\\Lib\\site-packages\\sklearn\\linear_model\\_sag.py:349: ConvergenceWarning: The max_iter was reached which means the coef_ did not converge\n",
      "  warnings.warn(\n",
      "c:\\Users\\sigal\\anaconda3\\envs\\EEG\\Lib\\site-packages\\sklearn\\linear_model\\_sag.py:349: ConvergenceWarning: The max_iter was reached which means the coef_ did not converge\n",
      "  warnings.warn(\n",
      "c:\\Users\\sigal\\anaconda3\\envs\\EEG\\Lib\\site-packages\\sklearn\\linear_model\\_sag.py:349: ConvergenceWarning: The max_iter was reached which means the coef_ did not converge\n",
      "  warnings.warn(\n",
      "c:\\Users\\sigal\\anaconda3\\envs\\EEG\\Lib\\site-packages\\sklearn\\linear_model\\_sag.py:349: ConvergenceWarning: The max_iter was reached which means the coef_ did not converge\n",
      "  warnings.warn(\n",
      "c:\\Users\\sigal\\anaconda3\\envs\\EEG\\Lib\\site-packages\\sklearn\\linear_model\\_sag.py:349: ConvergenceWarning: The max_iter was reached which means the coef_ did not converge\n",
      "  warnings.warn(\n",
      "c:\\Users\\sigal\\anaconda3\\envs\\EEG\\Lib\\site-packages\\sklearn\\linear_model\\_sag.py:349: ConvergenceWarning: The max_iter was reached which means the coef_ did not converge\n",
      "  warnings.warn(\n",
      "c:\\Users\\sigal\\anaconda3\\envs\\EEG\\Lib\\site-packages\\sklearn\\linear_model\\_sag.py:349: ConvergenceWarning: The max_iter was reached which means the coef_ did not converge\n",
      "  warnings.warn(\n",
      "c:\\Users\\sigal\\anaconda3\\envs\\EEG\\Lib\\site-packages\\sklearn\\linear_model\\_sag.py:349: ConvergenceWarning: The max_iter was reached which means the coef_ did not converge\n",
      "  warnings.warn(\n",
      "c:\\Users\\sigal\\anaconda3\\envs\\EEG\\Lib\\site-packages\\sklearn\\linear_model\\_sag.py:349: ConvergenceWarning: The max_iter was reached which means the coef_ did not converge\n",
      "  warnings.warn(\n",
      "c:\\Users\\sigal\\anaconda3\\envs\\EEG\\Lib\\site-packages\\sklearn\\linear_model\\_sag.py:349: ConvergenceWarning: The max_iter was reached which means the coef_ did not converge\n",
      "  warnings.warn(\n",
      "c:\\Users\\sigal\\anaconda3\\envs\\EEG\\Lib\\site-packages\\sklearn\\linear_model\\_sag.py:349: ConvergenceWarning: The max_iter was reached which means the coef_ did not converge\n",
      "  warnings.warn(\n",
      "c:\\Users\\sigal\\anaconda3\\envs\\EEG\\Lib\\site-packages\\sklearn\\linear_model\\_sag.py:349: ConvergenceWarning: The max_iter was reached which means the coef_ did not converge\n",
      "  warnings.warn(\n",
      "c:\\Users\\sigal\\anaconda3\\envs\\EEG\\Lib\\site-packages\\sklearn\\linear_model\\_sag.py:349: ConvergenceWarning: The max_iter was reached which means the coef_ did not converge\n",
      "  warnings.warn(\n",
      "c:\\Users\\sigal\\anaconda3\\envs\\EEG\\Lib\\site-packages\\sklearn\\linear_model\\_sag.py:349: ConvergenceWarning: The max_iter was reached which means the coef_ did not converge\n",
      "  warnings.warn(\n",
      "c:\\Users\\sigal\\anaconda3\\envs\\EEG\\Lib\\site-packages\\sklearn\\linear_model\\_sag.py:349: ConvergenceWarning: The max_iter was reached which means the coef_ did not converge\n",
      "  warnings.warn(\n"
     ]
    },
    {
     "name": "stdout",
     "output_type": "stream",
     "text": [
      "Training Accuracy: 0.9615384615384616\n",
      "Accuracy Score: 0.9\n",
      "\n",
      "Classification Report:\n",
      "               precision    recall  f1-score   support\n",
      "\n",
      "         0.0       1.00      0.82      0.90        11\n",
      "         1.0       0.82      1.00      0.90         9\n",
      "\n",
      "    accuracy                           0.90        20\n",
      "   macro avg       0.91      0.91      0.90        20\n",
      "weighted avg       0.92      0.90      0.90        20\n",
      "\n"
     ]
    },
    {
     "data": {
      "image/png": "[encoded data removed]",
      "text/plain": [
       "<Figure size 640x480 with 2 Axes>"
      ]
     },
     "metadata": {},
     "output_type": "display_data"
    }
   ],
   "source": [
    "pipeline = Pipeline(steps=[\n",
    "    ('preprocessor', StandardScaler()),\n",
    "    ('logistic', LogisticRegression())  \n",
    "])\n",
    "param_grid = {\n",
    "    'logistic__C': [0.1, 1, 10, 100],  # Parametro de regularización\n",
    "    'logistic__solver': ['lbfgs', 'liblinear', 'newton-cg', 'newton-cholesky', 'sag', 'saga'],  # Optimizador\n",
    "    'logistic__penalty': ['l2'],\n",
    "    #'logistic__fit_intercept':[True,False]\n",
    "}\n",
    "\n",
    "lr_grid = GridSearchCV(pipeline, param_grid, cv=5, scoring='accuracy')\n",
    "# Busqueda de las mejores caracteristicas para el clasificado\n",
    "lr_grid.fit(X_train, y_train)\n",
    "pipeline = Pipeline(steps=[\n",
    "    ('preprocessor', StandardScaler()),\n",
    "    ('svc', SVC(probability=True))  \n",
    "])\n",
    "param_grid = {\n",
    "    'svc__C': [0.1, 1, 10, 100],               # Regularization parameter\n",
    "    'svc__kernel': ['linear', 'rbf', 'poly'],   # Type of kernel\n",
    "    'svc__gamma': ['scale', 'auto'],            # Kernel coefficient for 'rbf', 'poly', and 'sigmoid'\n",
    "    'svc__degree': [2, 3, 4],                   # Degree of the polynomial kernel function (if 'poly')\n",
    "    'svc__coef0': [0.0, 0.1, 0.5],              # Independent term in kernel function (for 'poly' and 'sigmoid')\n",
    "}\n",
    "\n",
    "svm_grid = GridSearchCV(pipeline, param_grid, cv=5, scoring='accuracy')\n",
    "# Busqueda de las mejores caracteristicas para el clasificado\n",
    "svm_grid.fit(X_train, y_train)\n",
    "\"\"\"\n",
    "pipeline = Pipeline(steps=[\n",
    "    ('preprocessor', StandardScaler()),\n",
    "    ('forest', RandomForestClassifier())  \n",
    "])\n",
    "\n",
    "param_grid = {\n",
    "    'forest__n_estimators': [50, 100, 200],  \n",
    "    'forest__max_depth': [None, 10, 20, 30], \n",
    "    'forest__min_samples_split': [2, 5, 10],  \n",
    "    'forest__min_samples_leaf': [1, 2, 4],  \n",
    "    'forest__bootstrap': [True, False]  \n",
    "}\n",
    "\n",
    "rf_grid = GridSearchCV(pipeline, param_grid, cv=5, scoring='accuracy')\n",
    "rf_grid.fit(X_train, y_train)\n",
    "\"\"\"\n",
    "rfff=joblib.load( \"rf_pipeline_2.pkl\")\n",
    "voting_pipeline = Pipeline([\n",
    "    ('scaler', StandardScaler()),  \n",
    "    ('voting', VotingClassifier(estimators=[\n",
    "        ('lr', lr_grid.best_estimator_),\n",
    "        ('svm', svm_grid.best_estimator_),\n",
    "        ('rf', rfff)\n",
    "    ], voting='soft'))\n",
    "])\n",
    "\n",
    "voting_pipeline.fit(X_train, y_train)\n",
    "best_pipeline = voting_pipeline\n",
    "y_pred = best_pipeline.predict(X_test)\n",
    "y_train_pred = best_pipeline.predict(X_train)\n",
    "training_accuracy = accuracy_score(y_train, y_train_pred)\n",
    "\n",
    "print(\"Training Accuracy:\", training_accuracy)\n",
    "print(\"Accuracy Score:\", accuracy_score(y_test, y_pred))\n",
    "print(\"\\nClassification Report:\\n\", classification_report(y_test, y_pred))\n",
    "cm = confusion_matrix(y_test, y_pred, labels=best_pipeline.classes_)\n",
    "\n",
    "disp = ConfusionMatrixDisplay(confusion_matrix=cm, display_labels=best_pipeline.classes_)\n",
    "disp.plot(cmap=plt.cm.Blues)\n",
    "plt.show()"
   ]
  },
  {
   "cell_type": "code",
   "execution_count": 6,
   "metadata": {},
   "outputs": [
    {
     "data": {
      "text/plain": [
       "['vot_pipeline_2.pkl']"
      ]
     },
     "execution_count": 6,
     "metadata": {},
     "output_type": "execute_result"
    }
   ],
   "source": [
    "joblib.dump(best_pipeline, 'vot_pipeline_2.pkl')\n"
   ]
  },
  {
   "cell_type": "code",
   "execution_count": null,
   "metadata": {},
   "outputs": [],
   "source": []
  }
 ],
 "metadata": {
  "kernelspec": {
   "display_name": "EEG",
   "language": "python",
   "name": "python3"
  },
  "language_info": {
   "codemirror_mode": {
    "name": "ipython",
    "version": 3
   },
   "file_extension": ".py",
   "mimetype": "text/x-python",
   "name": "python",
   "nbconvert_exporter": "python",
   "pygments_lexer": "ipython3",
   "version": "3.11.5"
  }
 },
 "nbformat": 4,
 "nbformat_minor": 2
}
